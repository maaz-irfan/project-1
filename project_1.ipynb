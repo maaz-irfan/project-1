{
  "nbformat": 4,
  "nbformat_minor": 0,
  "metadata": {
    "colab": {
      "provenance": [],
      "authorship_tag": "ABX9TyOvy+9Xfe4GptL1HgJJzqIv",
      "include_colab_link": true
    },
    "kernelspec": {
      "name": "python3",
      "display_name": "Python 3"
    },
    "language_info": {
      "name": "python"
    }
  },
  "cells": [
    {
      "cell_type": "markdown",
      "metadata": {
        "id": "view-in-github",
        "colab_type": "text"
      },
      "source": [
        "<a href=\"https://colab.research.google.com/github/maaz-irfan/project-1/blob/main/project_1.ipynb\" target=\"_parent\"><img src=\"https://colab.research.google.com/assets/colab-badge.svg\" alt=\"Open In Colab\"/></a>"
      ]
    },
    {
      "cell_type": "code",
      "execution_count": null,
      "metadata": {
        "colab": {
          "base_uri": "https://localhost:8080/"
        },
        "id": "1J0DkDjI8jjt",
        "outputId": "0ffbb011-0f0a-448f-efc6-3a63c0bda73f"
      },
      "outputs": [
        {
          "output_type": "stream",
          "name": "stdout",
          "text": [
            "Welcome to the Mad Libs game!\n"
          ]
        }
      ],
      "source": [
        "# project no :1\n",
        "# Mad Libs Story Template\n",
        "# Welcome message\n",
        "print(\"Welcome to the Mad Libs game!\")\n",
        "\n",
        "# Gather user inputs\n",
        "noun1 = input(\"Enter a noun: \")\n",
        "adjective1 = input(\"Enter an adjective: \")\n",
        "verb1 = input(\"Enter a verb: \")\n",
        "place1 = input(\"Enter a place: \")\n",
        "plural_noun = input(\"Enter a plural noun: \")\n",
        "\n",
        "# Mad Libs story\n",
        "story = f\"\"\"\n",
        "Once upon a time, there was a {adjective1} {noun1} who loved to {verb1}.\n",
        "One day, it decided to go to {place1} to meet some {plural_noun}.\n",
        "Everyone had a fantastic time, and they all lived happily ever after!\n",
        "\"\"\"\n",
        "\n",
        "# Print the completed story\n",
        "print(\"\\nHere is your Mad Libs story:\")\n",
        "print(story)\n"
      ]
    }
  ]
}